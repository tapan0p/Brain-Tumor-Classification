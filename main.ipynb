{
 "cells": [
  {
   "cell_type": "code",
   "execution_count": 1,
   "metadata": {},
   "outputs": [],
   "source": [
    "import torch \n",
    "import torch.nn as nn \n",
    "import torch.optim as optim \n",
    "from torch.utils.data import DataLoader,Dataset\n",
    "import os\n",
    "import cv2\n",
    "import numpy as np"
   ]
  },
  {
   "cell_type": "markdown",
   "metadata": {},
   "source": [
    "### Load the data for model training and evaluation"
   ]
  },
  {
   "cell_type": "code",
   "execution_count": 2,
   "metadata": {},
   "outputs": [],
   "source": [
    "class BrainTumorDataset(Dataset):\n",
    "    def __init__(self, dir_name):\n",
    "        self.dir_name = dir_name \n",
    "\n",
    "        self.classes = [] # list of image classes\n",
    "        self.image_paths = [] # list of image paths \n",
    "        self.labels = [] # list of image labels \n",
    "\n",
    "        # Load the data from directory \n",
    "        for class_name in os.listdir(dir_name):\n",
    "            class_path = os.path.join(dir_name, class_name)\n",
    "            if class_name not in self.classes:\n",
    "                self.classes.append(class_name)\n",
    "            for image_name in os.listdir(class_path):\n",
    "                image_path = os.path.join(class_path, image_name)\n",
    "                self.image_paths.append(image_path)\n",
    "                self.labels.append(self.classes.index(class_name))\n",
    "\n",
    "    def __len__(self):\n",
    "        return len(self.image_paths)\n",
    "    \n",
    "    def __getitem__(self, index):\n",
    "        image_path = self.image_paths[index]\n",
    "        image = cv2.imread(image_path)\n",
    "        image = cv2.cvtColor(image, cv2.COLOR_BGR2RGB)\n",
    "        image = torch.from_numpy(image).float().permute(2, 0, 1)\n",
    "        label = torch.tensor(self.labels[index], dtype=torch.long)\n",
    "        return image, label"
   ]
  },
  {
   "cell_type": "code",
   "execution_count": 6,
   "metadata": {},
   "outputs": [],
   "source": [
    "path = \"Brain_Tumor_MRI_dataset_resized\"\n",
    "train_path = os.path.join(path,\"Training\")\n",
    "test_path = os.path.join(path,\"Testing\")\n",
    "\n",
    "train_dataset = BrainTumorDataset(train_path)\n",
    "test_dataset = BrainTumorDataset(test_path)\n"
   ]
  },
  {
   "cell_type": "code",
   "execution_count": 7,
   "metadata": {},
   "outputs": [],
   "source": [
    "train_loader = DataLoader(train_dataset,batch_size=32,shuffle=True)\n",
    "test_loader = DataLoader(test_dataset,batch_size=32,shuffle=False)"
   ]
  },
  {
   "cell_type": "code",
   "execution_count": null,
   "metadata": {},
   "outputs": [
    {
     "name": "stdout",
     "output_type": "stream",
     "text": [
      "Epoch 1/10, loss = 4.941402292784366\n",
      "Epoch 1/10,loss = 228.66336268259818\n"
     ]
    }
   ],
   "source": [
    "from CNN_model import CNN_model\n",
    "\n",
    "model = CNN_model()\n",
    "\n",
    "model.train(train_loader,test_loader,lr=0.001,epochs=10)\n"
   ]
  }
 ],
 "metadata": {
  "kernelspec": {
   "display_name": "Python 3",
   "language": "python",
   "name": "python3"
  },
  "language_info": {
   "codemirror_mode": {
    "name": "ipython",
    "version": 3
   },
   "file_extension": ".py",
   "mimetype": "text/x-python",
   "name": "python",
   "nbconvert_exporter": "python",
   "pygments_lexer": "ipython3",
   "version": "3.11.7"
  }
 },
 "nbformat": 4,
 "nbformat_minor": 2
}
