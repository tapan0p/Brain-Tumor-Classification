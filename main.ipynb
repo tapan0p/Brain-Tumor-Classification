{
 "cells": [
  {
   "cell_type": "code",
   "execution_count": 6,
   "metadata": {},
   "outputs": [],
   "source": [
    "import torch \n",
    "import torch.nn as nn \n",
    "import torch.optim as optim \n",
    "from torch.utils.data import DataLoader,Dataset\n",
    "import os\n",
    "import cv2\n",
    "import numpy as np"
   ]
  },
  {
   "cell_type": "markdown",
   "metadata": {},
   "source": [
    "### Load the data for model training and evaluation"
   ]
  },
  {
   "cell_type": "code",
   "execution_count": 7,
   "metadata": {},
   "outputs": [],
   "source": [
    "class BrainTumorDataset(Dataset):\n",
    "    def __init__(self, dir_name):\n",
    "        self.dir_name = dir_name \n",
    "\n",
    "        self.classes = [] # list of image classes\n",
    "        self.image_paths = [] # list of image paths \n",
    "        self.labels = [] # list of image labels \n",
    "\n",
    "        # Load the data from directory \n",
    "        for class_name in os.listdir(dir_name):\n",
    "            class_path = os.path.join(dir_name, class_name)\n",
    "            if class_name not in self.classes:\n",
    "                self.classes.append(class_name)\n",
    "            for image_name in os.listdir(class_path):\n",
    "                image_path = os.path.join(class_path, image_name)\n",
    "                self.image_paths.append(image_path)\n",
    "                self.labels.append(self.classes.index(class_name))\n",
    "\n",
    "    def __len__(self):\n",
    "        return len(self.image_paths)\n",
    "    \n",
    "    def __getitem__(self, index):\n",
    "        image_path = self.image_paths[index]\n",
    "        image = cv2.imread(image_path)\n",
    "        image = cv2.cvtColor(image, cv2.COLOR_BGR2RGB)\n",
    "        image = torch.from_numpy(image).float().permute(2, 0, 1)\n",
    "        label = torch.tensor(self.labels[index], dtype=torch.long)\n",
    "        return image, label"
   ]
  },
  {
   "cell_type": "code",
   "execution_count": 8,
   "metadata": {},
   "outputs": [],
   "source": [
    "path = \"Brain_Tumor_MRI_dataset_resized\"\n",
    "train_path = os.path.join(path,\"Training\")\n",
    "test_path = os.path.join(path,\"Testing\")\n",
    "\n",
    "train_dataset = BrainTumorDataset(train_path)\n",
    "test_dataset = BrainTumorDataset(test_path)\n"
   ]
  },
  {
   "cell_type": "code",
   "execution_count": 9,
   "metadata": {},
   "outputs": [],
   "source": [
    "train_loader = DataLoader(train_dataset,batch_size=32,shuffle=True)\n",
    "test_loader = DataLoader(test_dataset,batch_size=32,shuffle=False)"
   ]
  },
  {
   "cell_type": "code",
   "execution_count": 10,
   "metadata": {},
   "outputs": [
    {
     "name": "stdout",
     "output_type": "stream",
     "text": [
      "Epoch 1/10, training loss = 7.536998145115775, training accuracy = 24.776536312849164\n",
      "Epoch 1/10,validation loss = 4.193727900818552, validation accuracy = 20.829268292682926\n",
      "Epoch 2/10, training loss = 29.301384379743865, training accuracy = 20.966480446927374\n",
      "Epoch 2/10,validation loss = 155.48600265891335, validation accuracy = 23.317073170731707\n",
      "Epoch 3/10, training loss = 12.719171325254706, training accuracy = 12.23463687150838\n",
      "Epoch 3/10,validation loss = 2.0182306388529336, validation accuracy = 7.219512195121951\n",
      "Epoch 4/10, training loss = 1.3893845161246188, training accuracy = 14.396648044692737\n",
      "Epoch 4/10,validation loss = 2.3314496453215434, validation accuracy = 7.2682926829268295\n",
      "Epoch 5/10, training loss = 1.3248015522290875, training accuracy = 10.88268156424581\n",
      "Epoch 5/10,validation loss = 1.4342688729123372, validation accuracy = 7.512195121951219\n",
      "Epoch 6/10, training loss = 1.4384579778383564, training accuracy = 8.167597765363128\n",
      "Epoch 6/10,validation loss = 1.4218033668471546, validation accuracy = 7.658536585365853\n",
      "Epoch 7/10, training loss = 1.4335780503363582, training accuracy = 7.877094972067039\n",
      "Epoch 7/10,validation loss = 1.4063981916846298, validation accuracy = 4.536585365853658\n",
      "Epoch 8/10, training loss = 1.2972798307514724, training accuracy = 11.513966480446927\n",
      "Epoch 8/10,validation loss = 1.4539258683600076, validation accuracy = 7.414634146341464\n",
      "Epoch 9/10, training loss = 1.455743708424062, training accuracy = 7.625698324022347\n",
      "Epoch 9/10,validation loss = 1.4355901537871942, validation accuracy = 7.634146341463414\n",
      "Epoch 10/10, training loss = 1.4582762838075947, training accuracy = 7.648044692737431\n",
      "Epoch 10/10,validation loss = 1.440719121839942, validation accuracy = 7.658536585365853\n",
      "Training complete\n"
     ]
    }
   ],
   "source": [
    "from CNN_model import CNN_model\n",
    "\n",
    "model = CNN_model()\n",
    "\n",
    "model.train(train_loader,test_loader,lr=0.001,epochs=10)\n"
   ]
  }
 ],
 "metadata": {
  "kernelspec": {
   "display_name": "Python 3",
   "language": "python",
   "name": "python3"
  },
  "language_info": {
   "codemirror_mode": {
    "name": "ipython",
    "version": 3
   },
   "file_extension": ".py",
   "mimetype": "text/x-python",
   "name": "python",
   "nbconvert_exporter": "python",
   "pygments_lexer": "ipython3",
   "version": "3.11.7"
  }
 },
 "nbformat": 4,
 "nbformat_minor": 2
}
